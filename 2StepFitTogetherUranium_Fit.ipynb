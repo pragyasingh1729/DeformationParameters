{
 "cells": [
  {
   "cell_type": "code",
   "execution_count": 1,
   "id": "079d15a1",
   "metadata": {},
   "outputs": [],
   "source": [
    "import numpy as np\n",
    "import pandas as pd\n",
    "import scipy.integrate\n",
    "import scipy.optimize\n",
    "import scipy.stats\n",
    "import matplotlib.pyplot as plt\n",
    "\n",
    "import warnings \n",
    "warnings.filterwarnings('ignore')\n",
    "\n",
    "\n",
    "legfont=16\n",
    "plt.rc(\"xtick\", labelsize=legfont)\n",
    "plt.rc(\"ytick\", labelsize=legfont)\n",
    "\n",
    "FMGEV=5.068\n",
    "\n",
    "# no analytical solution for the deformed nucleus (using the one for the spherical nuclei)\n",
    "def Norm(R, a):\n",
    "    return (3/(4.0 * np.pi * R**3)) * (1/(1.0 + (np.pi * a/R)**2))\n",
    "\n",
    "def integrand(z, b, R):\n",
    "    a=0.55* FMGEV\n",
    "    return Norm(R, a)/(np.exp((np.sqrt(b**2+z**2) - R)/a) + 1)\n",
    "\n",
    "\"\"\"FIT AS A FUNCTION OF R(THETA) AND THEN DO A LINEAR FIT FOR THE DEFORAMTION PARAMETER\"\"\"\n",
    "def func(b, R):\n",
    "    return scipy.integrate.quad(integrand, -np.inf, np.inf, args=(b, R))[0]\n"
   ]
  },
  {
   "cell_type": "code",
   "execution_count": 10,
   "id": "36f25b94",
   "metadata": {
    "scrolled": true
   },
   "outputs": [],
   "source": [
    "dir_='Fluctuatingx0_U_roots70/MoreStat/Fluctx0_Ru_Heikki'\n",
    "\n",
    "\n",
    "Y=0\n",
    "r=0.1\n",
    "def computemean(dirname, maxconf=240):\n",
    "    data=[]\n",
    "    for i in range(1, maxconf):\n",
    "        d = np.loadtxt(dirname + \"Run\" + str(i) + \".txt\")\n",
    "        \n",
    "        if np.sum(d[:,3]) < 1e-9:\n",
    "            print(\"only zeroes in the file\")\n",
    "        \n",
    "        data.append(d)\n",
    "    \n",
    "    err = scipy.stats.sem(data, axis=0)\n",
    "\n",
    "    data = np.mean(data, axis=0)\n",
    "    data = pd.DataFrame(data, columns=[\"theta\",\"b\",\"N\",\"averageN\"])\n",
    "    \n",
    "    # normalize \n",
    "    interp = scipy.interpolate.LinearNDInterpolator(list(zip(data[\"theta\"],data[\"b\"])),data[\"averageN\"], fill_value=0)\n",
    "        \n",
    "    final_norm = scipy.integrate.dblquad(lambda theta,b: b*interp(theta,b),0.0, 2*np.pi, 0, np.inf )[0]\n",
    "\n",
    "    norm = 1.0\n",
    "        \n",
    "    data[\"averageN\"]/=norm\n",
    "    data[\"err\"]=err[:,2]/norm\n",
    "    \n",
    "    return data\n",
    "\n",
    "# Compute mean over differernt configurations\n",
    "avg=computemean(f'{dir_}/Y{Y}r{r}/')\n",
    "\n"
   ]
  },
  {
   "cell_type": "code",
   "execution_count": 11,
   "id": "ac56c32c",
   "metadata": {},
   "outputs": [
    {
     "data": {
      "image/png": "[encoded data removed]",
      "text/plain": [
       "<Figure size 432x288 with 1 Axes>"
      ]
     },
     "metadata": {
      "needs_background": "light"
     },
     "output_type": "display_data"
    }
   ],
   "source": [
    "# COMPUTE AVERAGE OVER THE SUPPLEMENTARY ANGLES (THIS IS BASED ON THE SYMMETRY IN THE TRANSVERSE PLANE)\n",
    "avg['theta_new'] = avg['theta'].apply(lambda x: min(x,180-x))\n",
    "\n",
    "avg_supplementangle = avg.groupby(['new_theta','b'])[['averageN','err']].mean().reset_index()\n",
    "\n",
    "\"\"\"TO SEE HOW PROFILE LOOKS FOR A GIVEN RANGE IN ANGLE [0-5] (here)\"\"\"\n",
    "plt.plot(avg.b[avg.theta==4],avg.averageN[avg.theta ==4], label = \"4 degree\")\n",
    "plt.plot(avg.b[avg.theta==45],avg.averageN[avg.theta ==45], label = \"45 degree\")\n",
    "\n",
    "plt.legend()\n",
    "\n",
    "# NOTE: ITS NOT NORMALIZED YET\n",
    "avg_supplementangle.to_csv(f'{dir_}/NormFolder/NormFolderY{0}r{r}/AvgSupplAngleY{Y}r{r}.txt', sep=' ', index=False)\n"
   ]
  },
  {
   "cell_type": "code",
   "execution_count": 12,
   "id": "b4e3eb45",
   "metadata": {},
   "outputs": [
    {
     "data": {
      "text/html": [
       "<div>\n",
       "<style scoped>\n",
       "    .dataframe tbody tr th:only-of-type {\n",
       "        vertical-align: middle;\n",
       "    }\n",
       "\n",
       "    .dataframe tbody tr th {\n",
       "        vertical-align: top;\n",
       "    }\n",
       "\n",
       "    .dataframe thead th {\n",
       "        text-align: right;\n",
       "    }\n",
       "</style>\n",
       "<table border=\"1\" class=\"dataframe\">\n",
       "  <thead>\n",
       "    <tr style=\"text-align: right;\">\n",
       "      <th></th>\n",
       "      <th>new_theta</th>\n",
       "      <th>b</th>\n",
       "      <th>averageN</th>\n",
       "      <th>err</th>\n",
       "    </tr>\n",
       "  </thead>\n",
       "  <tbody>\n",
       "    <tr>\n",
       "      <th>0</th>\n",
       "      <td>0.0</td>\n",
       "      <td>-45.6120</td>\n",
       "      <td>0.000056</td>\n",
       "      <td>0.000054</td>\n",
       "    </tr>\n",
       "    <tr>\n",
       "      <th>1</th>\n",
       "      <td>0.0</td>\n",
       "      <td>-45.3586</td>\n",
       "      <td>0.000057</td>\n",
       "      <td>0.000041</td>\n",
       "    </tr>\n",
       "    <tr>\n",
       "      <th>2</th>\n",
       "      <td>0.0</td>\n",
       "      <td>-45.1052</td>\n",
       "      <td>0.000053</td>\n",
       "      <td>0.000026</td>\n",
       "    </tr>\n",
       "    <tr>\n",
       "      <th>3</th>\n",
       "      <td>0.0</td>\n",
       "      <td>-44.8518</td>\n",
       "      <td>0.000070</td>\n",
       "      <td>0.000054</td>\n",
       "    </tr>\n",
       "    <tr>\n",
       "      <th>4</th>\n",
       "      <td>0.0</td>\n",
       "      <td>-44.5984</td>\n",
       "      <td>0.000089</td>\n",
       "      <td>0.000044</td>\n",
       "    </tr>\n",
       "    <tr>\n",
       "      <th>...</th>\n",
       "      <td>...</td>\n",
       "      <td>...</td>\n",
       "      <td>...</td>\n",
       "      <td>...</td>\n",
       "    </tr>\n",
       "    <tr>\n",
       "      <th>32846</th>\n",
       "      <td>90.0</td>\n",
       "      <td>44.5984</td>\n",
       "      <td>0.000014</td>\n",
       "      <td>0.000011</td>\n",
       "    </tr>\n",
       "    <tr>\n",
       "      <th>32847</th>\n",
       "      <td>90.0</td>\n",
       "      <td>44.8518</td>\n",
       "      <td>0.000012</td>\n",
       "      <td>0.000010</td>\n",
       "    </tr>\n",
       "    <tr>\n",
       "      <th>32848</th>\n",
       "      <td>90.0</td>\n",
       "      <td>45.1052</td>\n",
       "      <td>0.000011</td>\n",
       "      <td>0.000008</td>\n",
       "    </tr>\n",
       "    <tr>\n",
       "      <th>32849</th>\n",
       "      <td>90.0</td>\n",
       "      <td>45.3586</td>\n",
       "      <td>0.000009</td>\n",
       "      <td>0.000007</td>\n",
       "    </tr>\n",
       "    <tr>\n",
       "      <th>32850</th>\n",
       "      <td>90.0</td>\n",
       "      <td>45.6120</td>\n",
       "      <td>0.000008</td>\n",
       "      <td>0.000007</td>\n",
       "    </tr>\n",
       "  </tbody>\n",
       "</table>\n",
       "<p>32851 rows × 4 columns</p>\n",
       "</div>"
      ],
      "text/plain": [
       "       new_theta        b  averageN       err\n",
       "0            0.0 -45.6120  0.000056  0.000054\n",
       "1            0.0 -45.3586  0.000057  0.000041\n",
       "2            0.0 -45.1052  0.000053  0.000026\n",
       "3            0.0 -44.8518  0.000070  0.000054\n",
       "4            0.0 -44.5984  0.000089  0.000044\n",
       "...          ...      ...       ...       ...\n",
       "32846       90.0  44.5984  0.000014  0.000011\n",
       "32847       90.0  44.8518  0.000012  0.000010\n",
       "32848       90.0  45.1052  0.000011  0.000008\n",
       "32849       90.0  45.3586  0.000009  0.000007\n",
       "32850       90.0  45.6120  0.000008  0.000007\n",
       "\n",
       "[32851 rows x 4 columns]"
      ]
     },
     "execution_count": 12,
     "metadata": {},
     "output_type": "execute_result"
    }
   ],
   "source": [
    "avg_supplementangle"
   ]
  },
  {
   "cell_type": "markdown",
   "id": "16954cdf",
   "metadata": {},
   "source": [
    "# NO BINNING IN ANGLE"
   ]
  },
  {
   "cell_type": "code",
   "execution_count": 14,
   "id": "1243fbc1",
   "metadata": {},
   "outputs": [
    {
     "data": {
      "image/png": "[encoded data removed]",
      "text/plain": [
       "<Figure size 432x288 with 1 Axes>"
      ]
     },
     "metadata": {
      "needs_background": "light"
     },
     "output_type": "display_data"
    }
   ],
   "source": [
    "list_Rtheta = []\n",
    "\n",
    "# GET GROUP OVER ANGLE -- \n",
    "avg_angle = avg_supplementangle.groupby('new_theta')\n",
    "\n",
    "colors = plt.cm.tab20(np.linspace(0, 1, 20))\n",
    "\n",
    "for angle in range(0,91):\n",
    "    \n",
    "    data = avg_angle.get_group(angle)\n",
    "    bins = pd.qcut(data[data.columns[1]],q=50)\n",
    "\n",
    "    \n",
    "    # binning over b\n",
    "#     df = pd.DataFrame(data.groupby(bins).agg(\"mean\",{1}))\n",
    "\n",
    "    df = pd.DataFrame(data.groupby(bins).agg(\n",
    "        b=('b', 'mean'),\n",
    "        averageN=('averageN', 'mean'),\n",
    "        err=('err', lambda x: np.sqrt(np.sum(np.square(x)) / len(x)))\n",
    "    ))\n",
    "        \n",
    "    from scipy.interpolate import interp1d\n",
    "    \n",
    "    interp = interp1d( df['b'],df['averageN'], bounds_error=False, fill_value=0)\n",
    "    normalization_integrand= lambda b: 2*np.pi*b*interp(b)\n",
    "\n",
    "    norm = scipy.integrate.quad(normalization_integrand,0,np.inf)[0]\n",
    "    df['averageN'] = df['averageN']/norm\n",
    "    df['err'] = df['err']/norm\n",
    "    \n",
    "    # ***NORMALIZING THE OUTPUT DATA HERE***\n",
    "    final_norm=norm \n",
    "    avg_supplementangle.averageN[avg_supplementangle.new_theta==angle]/=final_norm\n",
    "    avg_supplementangle.err[avg_supplementangle.new_theta==angle]/=final_norm\n",
    "\n",
    "\n",
    "    vcurve = np.vectorize(func)\n",
    "\n",
    "    popt, pcov = scipy.optimize.curve_fit(vcurve, df['b'], df['averageN'], \n",
    "                                          sigma=df['err'], absolute_sigma=True, p0=[6*FMGEV])\n",
    "    \n",
    "    list_Rtheta.append((angle*3.14/180, *popt, np.sqrt(np.diag(pcov))[0]))\n",
    "    \n",
    "    if angle%20==0:\n",
    "        color = colors[int(angle/20)]\n",
    "        plt.plot(df['b'], df['averageN'], color=color, label=f'{angle}')\n",
    "        plt.plot(df['b'], vcurve(df['b'], *popt), color=color, linestyle=\"dashed\")\n",
    "\n",
    "        plt.legend()"
   ]
  },
  {
   "cell_type": "code",
   "execution_count": 15,
   "id": "f83f5f32",
   "metadata": {},
   "outputs": [],
   "source": [
    "pd.DataFrame(list_Rtheta)\n",
    "df_Rtheta = pd.DataFrame(list_Rtheta)\n",
    "df_Rtheta.columns = ['AngleinRadian', 'Rtheta', 'Rtheta_err']"
   ]
  },
  {
   "cell_type": "code",
   "execution_count": 16,
   "id": "54cb56d3",
   "metadata": {},
   "outputs": [
    {
     "data": {
      "text/html": [
       "<div>\n",
       "<style scoped>\n",
       "    .dataframe tbody tr th:only-of-type {\n",
       "        vertical-align: middle;\n",
       "    }\n",
       "\n",
       "    .dataframe tbody tr th {\n",
       "        vertical-align: top;\n",
       "    }\n",
       "\n",
       "    .dataframe thead th {\n",
       "        text-align: right;\n",
       "    }\n",
       "</style>\n",
       "<table border=\"1\" class=\"dataframe\">\n",
       "  <thead>\n",
       "    <tr style=\"text-align: right;\">\n",
       "      <th></th>\n",
       "      <th>AngleinRadian</th>\n",
       "      <th>Rtheta</th>\n",
       "      <th>Rtheta_err</th>\n",
       "    </tr>\n",
       "  </thead>\n",
       "  <tbody>\n",
       "    <tr>\n",
       "      <th>0</th>\n",
       "      <td>0.000000</td>\n",
       "      <td>29.644763</td>\n",
       "      <td>0.187012</td>\n",
       "    </tr>\n",
       "    <tr>\n",
       "      <th>1</th>\n",
       "      <td>0.017444</td>\n",
       "      <td>30.130542</td>\n",
       "      <td>0.155221</td>\n",
       "    </tr>\n",
       "    <tr>\n",
       "      <th>2</th>\n",
       "      <td>0.034889</td>\n",
       "      <td>30.300075</td>\n",
       "      <td>0.147283</td>\n",
       "    </tr>\n",
       "    <tr>\n",
       "      <th>3</th>\n",
       "      <td>0.052333</td>\n",
       "      <td>30.411568</td>\n",
       "      <td>0.141492</td>\n",
       "    </tr>\n",
       "    <tr>\n",
       "      <th>4</th>\n",
       "      <td>0.069778</td>\n",
       "      <td>30.520850</td>\n",
       "      <td>0.137100</td>\n",
       "    </tr>\n",
       "    <tr>\n",
       "      <th>...</th>\n",
       "      <td>...</td>\n",
       "      <td>...</td>\n",
       "      <td>...</td>\n",
       "    </tr>\n",
       "    <tr>\n",
       "      <th>86</th>\n",
       "      <td>1.500222</td>\n",
       "      <td>26.141753</td>\n",
       "      <td>0.216695</td>\n",
       "    </tr>\n",
       "    <tr>\n",
       "      <th>87</th>\n",
       "      <td>1.517667</td>\n",
       "      <td>26.222384</td>\n",
       "      <td>0.221511</td>\n",
       "    </tr>\n",
       "    <tr>\n",
       "      <th>88</th>\n",
       "      <td>1.535111</td>\n",
       "      <td>26.162811</td>\n",
       "      <td>0.225721</td>\n",
       "    </tr>\n",
       "    <tr>\n",
       "      <th>89</th>\n",
       "      <td>1.552556</td>\n",
       "      <td>26.076737</td>\n",
       "      <td>0.231243</td>\n",
       "    </tr>\n",
       "    <tr>\n",
       "      <th>90</th>\n",
       "      <td>1.570000</td>\n",
       "      <td>25.925509</td>\n",
       "      <td>0.265096</td>\n",
       "    </tr>\n",
       "  </tbody>\n",
       "</table>\n",
       "<p>91 rows × 3 columns</p>\n",
       "</div>"
      ],
      "text/plain": [
       "    AngleinRadian     Rtheta  Rtheta_err\n",
       "0        0.000000  29.644763    0.187012\n",
       "1        0.017444  30.130542    0.155221\n",
       "2        0.034889  30.300075    0.147283\n",
       "3        0.052333  30.411568    0.141492\n",
       "4        0.069778  30.520850    0.137100\n",
       "..            ...        ...         ...\n",
       "86       1.500222  26.141753    0.216695\n",
       "87       1.517667  26.222384    0.221511\n",
       "88       1.535111  26.162811    0.225721\n",
       "89       1.552556  26.076737    0.231243\n",
       "90       1.570000  25.925509    0.265096\n",
       "\n",
       "[91 rows x 3 columns]"
      ]
     },
     "execution_count": 16,
     "metadata": {},
     "output_type": "execute_result"
    }
   ],
   "source": [
    "df_Rtheta"
   ]
  },
  {
   "cell_type": "code",
   "execution_count": 17,
   "id": "b796e81c",
   "metadata": {},
   "outputs": [
    {
     "name": "stdout",
     "output_type": "stream",
     "text": [
      "[0.04898412 0.01269865 0.01648223 0.00814977]\n",
      "R is 5.424050821418788 fm; b2 is 0.14058356573862343 ; b3 is 0.060529425531479816; b4 is -0.03561173740852582\n"
     ]
    },
    {
     "data": {
      "image/png": "[encoded data removed]",
      "text/plain": [
       "<Figure size 432x288 with 1 Axes>"
      ]
     },
     "metadata": {
      "needs_background": "light"
     },
     "output_type": "display_data"
    }
   ],
   "source": [
    "import scipy\n",
    "import scipy.special as sp\n",
    "\n",
    "def sp_hrm(l, m, theta):\n",
    "    \"\"\"angle in radian\"\"\"\n",
    "    return sp.sph_harm(m, l, 0, theta) \n",
    "\n",
    "\n",
    "def Rtheta(theta, R, b2, b3, b4):\n",
    "    return R * ( 1 + b2 * np.real(sp_hrm(2, 0, theta)) + b3 * np.real(sp_hrm(3, 0, theta)) \\\n",
    "                + b4 * np.real(sp_hrm(4, 0, theta)))\n",
    "\n",
    "\n",
    "vcurve = np.vectorize(Rtheta)\n",
    "\n",
    "\n",
    "popt, pcov = scipy.optimize.curve_fit(vcurve, df_Rtheta[df_Rtheta.columns[0]], \\\n",
    "                       df_Rtheta[df_Rtheta.columns[1]], p0=[6*FMGEV, 0.2,0,0.05],\\\n",
    "                                     sigma=df_Rtheta['Rtheta_err'], absolute_sigma=True)\n",
    "\n",
    "error_final = np.sqrt(np.diag(pcov))\n",
    "print(error_final)\n",
    "\n",
    "plt.plot(df_Rtheta[df_Rtheta.columns[0]], df_Rtheta[df_Rtheta.columns[1]]\\\n",
    "         ,color=\"darkgreen\", label=\"IP Glasma $U$; \" + f'r = {r}' + \" and \" f'Y={Y}')  \n",
    "\n",
    "\n",
    "plt.fill_between(df_Rtheta['AngleinRadian'], df_Rtheta['Rtheta']-df_Rtheta['Rtheta_err'], df_Rtheta['Rtheta']+df_Rtheta['Rtheta_err']\n",
    "         ,color=\"lightgreen\")  \n",
    "\n",
    "plt.plot(df_Rtheta[df_Rtheta.columns[0]], vcurve(df_Rtheta[df_Rtheta.columns[0]], *popt),\\\n",
    "         linestyle=\"dashed\", color=\"red\",label = \"WS fit, $R=\" + str(round(popt[0]/FMGEV,3)) + \\\n",
    "         r\"\\,\\mathrm{fm}$, b2 = \"+ str(round(popt[1],3)) + \",\\n b3 = \"+ str(round(popt[2],3)) \\\n",
    "         + \", b4 = \"+ str(round(popt[3],3)))\n",
    "\n",
    "plt.fill_between(df_Rtheta[df_Rtheta.columns[0]],vcurve(df_Rtheta[df_Rtheta.columns[0]], *(popt - error_final))\\\n",
    "                 , vcurve(df_Rtheta[df_Rtheta.columns[0]], *(popt + error_final)) ,color=\"lightcoral\")\n",
    "\n",
    "plt.legend()\n",
    "\n",
    "print(f'R is {popt[0]/FMGEV} fm; b2 is {popt[1]} ; b3 is {popt[2]}; b4 is {popt[3]}'.format({popt[0]/FMGEV},{popt[1]},\\\n",
    "                                                                                         {popt[2]},{popt[3]}))\n",
    "plt.xlabel(r'$\\theta$' + \" [radian]\", fontsize=14)\n",
    "plt.ylabel(r'R($\\theta$) [fmGeV]', fontsize=14)\n",
    "plt.tight_layout()\n",
    "plt.savefig(f'{dir_}/PLOTS/Y{Y}r{r}.pdf')\n",
    "\n",
    "with open(f'{dir_}/StepFitValues.txt', 'a') as file:\n",
    "    file.write('\\n')\n",
    "    file.write(f'{Y} {r} {popt[0]/FMGEV:.6f} {error_final[0]:.6f} {popt[1]:.6f} {error_final[1]:.6f} \\\n",
    "    {popt[2]:.6f} {error_final[2]:.6f} {popt[3]:.6f} {error_final[3]:.6f} ')\n"
   ]
  },
  {
   "cell_type": "raw",
   "id": "20dcd912",
   "metadata": {},
   "source": [
    "b_range = avg_supplementangle['b'].unique()\n",
    "b_range[167]"
   ]
  },
  {
   "cell_type": "raw",
   "id": "10d3dbcb",
   "metadata": {},
   "source": [
    "df_Rtheta['Angle'] = df_Rtheta['AngleinRadian'].apply(lambda x: x*180/3.14 )\n",
    "df_Rtheta = df_Rtheta.drop(columns=['AngleinRadian'])\n",
    "df_Rtheta"
   ]
  },
  {
   "cell_type": "raw",
   "id": "7545024b",
   "metadata": {},
   "source": [
    "R, b2, b3, b4 = popt[0], popt[1], popt[2], popt[3]\n",
    "print(R, b2, b3, b4)\n",
    "\n",
    "a=0.55* FMGEV"
   ]
  },
  {
   "cell_type": "raw",
   "id": "19583802",
   "metadata": {},
   "source": [
    "#put angle in radian\n",
    "def return_Rtheta(theta):\n",
    "    return R * ( 1 + b2 * np.real(sp_hrm(2, 0, theta)) + b3 * np.real(sp_hrm(3, 0, theta)) \\\n",
    "                + b4 * np.real(sp_hrm(4, 0, theta)))\n",
    "\n",
    "\n",
    "def integrand_withRtheta(z, b, theta):\n",
    "    return Norm(return_Rtheta(theta),a)/(np.exp((np.sqrt(b**2+z**2) - return_Rtheta(theta))/a) + 1)\n",
    "\n",
    "def func_withRtheta(b, theta):\n",
    "    return scipy.integrate.quad(integrand_withRtheta, -np.inf, np.inf, args=(b, theta))[0]\n"
   ]
  },
  {
   "cell_type": "markdown",
   "id": "3cc92819",
   "metadata": {},
   "source": [
    "### NOTE\n",
    "\n",
    "func_withRtheta AND func ARE SIMILAR but differs from avg_supplementangle (dataset) BY A FACTOR OF \"2\"\n",
    "\n",
    "def func(b, R):\n",
    "\n",
    "    return scipy.integrate.quad(integrand, -np.inf, np.inf, args=(b, R))[0]\n",
    "\n",
    "def func_withRtheta(b, theta):\n",
    "\n",
    "    return scipy.integrate.quad(integrand_withRtheta, -np.inf, np.inf, args=(b, theta))[0]\n"
   ]
  },
  {
   "cell_type": "raw",
   "id": "7f16aae6",
   "metadata": {},
   "source": [
    "b_check=b_range[245] #len =361\n",
    "angle_check=45.0\n",
    "avg_supplementangle = avg_supplementangle.reset_index(drop=True)\n",
    "print(avg_supplementangle[(avg_supplementangle['b']==b_check) & \\\n",
    "                          (avg_supplementangle['new_theta']==angle_check)]['averageN'].values[0])\n",
    "\n",
    "print(func_withRtheta(b_check, angle_check*3.14/180))\n",
    "\n",
    "print(func(b_check,R))\n"
   ]
  },
  {
   "cell_type": "raw",
   "id": "f72beea0",
   "metadata": {},
   "source": [
    "chi_square = 0.\n",
    "df_concat = pd.DataFrame(columns=['data_points', 'data_points_err'  'WS_pred', 'b', 'theta'])\n",
    "\n",
    "for angle in range(0, 91):\n",
    "    for b in b_range:\n",
    "        data_point = avg_supplementangle[(avg_supplementangle['b'] == b) & \\\n",
    "                                         (avg_supplementangle['new_theta'] == angle)]['averageN'].values[0]\n",
    "        \n",
    "        data_point_err = avg_supplementangle[(avg_supplementangle['b'] == b) & \\\n",
    "                                         (avg_supplementangle['new_theta'] == angle)]['err'].values[0]\n",
    "        \n",
    "        ws_pred = func_withRtheta(b, angle * 3.14 / 180)\n",
    "        \n",
    "        df_new = pd.DataFrame({'data_points': [data_point], 'data_points_err': [data_point_err], 'WS_pred': [ws_pred], 'b': [b], 'theta': [angle]})\n",
    "        df_concat = pd.concat([df_concat, df_new], ignore_index=True)\n",
    "        \n",
    "        diff = (data_point - ws_pred) ** 2\n",
    "        chi_square += diff\n",
    "\n",
    "print(chi_square)\n"
   ]
  },
  {
   "cell_type": "raw",
   "id": "5965ecc4",
   "metadata": {},
   "source": [
    "data_feature1 = df_concat['data_points']\n",
    "data_feature2 = df_concat['WS_pred']\n",
    "\n",
    "plt.figure(figsize=(8, 8))\n",
    "plt.scatter(data_feature1, data_feature2, color='blue', alpha=0.01)\n",
    "plt.xlim(0, 0.0005)\n",
    "plt.ylim(0, 0.0005)\n",
    "plt.title('WS Vs data')\n",
    "plt.xlabel('data_points')\n",
    "plt.ylabel('WS_pred')\n",
    "plt.grid(True)\n",
    "plt.show()"
   ]
  },
  {
   "cell_type": "raw",
   "id": "b01495d7",
   "metadata": {},
   "source": [
    "print(df_concat[(df_concat['b']==b_check) & \\\n",
    "                          (df_concat['theta']==angle_check)]['data_points'].values[0])\n",
    "\n",
    "\n",
    "print(df_concat[(df_concat['b']==b_check) & \\\n",
    "                          (df_concat['theta']==angle_check)]['WS_pred'].values[0])\n",
    "\n",
    "\n"
   ]
  },
  {
   "cell_type": "raw",
   "id": "0edd133b",
   "metadata": {},
   "source": [
    "angle_ = 34\n",
    "\n",
    "# plt.plot(df_concat.b[df_concat.theta==angle_], df_concat.data_points[df_concat.theta==angle_], color='red', label=\"data\")\n",
    "\n",
    "plt.errorbar(df_concat.b[df_concat.theta == angle_], \n",
    "             df_concat.data_points[df_concat.theta == angle_], \n",
    "             yerr=df_concat.data_points_err[df_concat.theta == angle_], \n",
    "             fmt='o', color='red', label=\"data\", alpha=0.2)\n",
    "\n",
    "\n",
    "plt.plot(df_concat.b[df_concat.theta==angle_], df_concat.WS_pred[df_concat.theta==angle_], color ='blue', label=\"WS\")\n",
    "plt.legend()"
   ]
  },
  {
   "cell_type": "raw",
   "id": "fe2ae8d6",
   "metadata": {},
   "source": [
    "scipy.integrate.simps(np.abs(2*np.pi*df_concat.b[df_concat.theta==angle_]*df_concat.data_points[df_concat.theta==angle_]),df_concat.b[df_concat.theta==angle_])/2"
   ]
  },
  {
   "cell_type": "raw",
   "id": "858fdc45",
   "metadata": {},
   "source": [
    "scipy.integrate.simps(2*np.pi*np.abs(df_concat.b[df_concat.theta==angle_]*df_concat.WS_pred[df_concat.theta==angle_]),df_concat.WS_pred[df_concat.theta==angle_])"
   ]
  },
  {
   "cell_type": "code",
   "execution_count": null,
   "id": "119ff638",
   "metadata": {},
   "outputs": [],
   "source": []
  },
  {
   "cell_type": "code",
   "execution_count": null,
   "id": "cd00c7b5",
   "metadata": {},
   "outputs": [],
   "source": []
  }
 ],
 "metadata": {
  "kernelspec": {
   "display_name": "Python 3 (ipykernel)",
   "language": "python",
   "name": "python3"
  },
  "language_info": {
   "codemirror_mode": {
    "name": "ipython",
    "version": 3
   },
   "file_extension": ".py",
   "mimetype": "text/x-python",
   "name": "python",
   "nbconvert_exporter": "python",
   "pygments_lexer": "ipython3",
   "version": "3.9.12"
  }
 },
 "nbformat": 4,
 "nbformat_minor": 5
}
